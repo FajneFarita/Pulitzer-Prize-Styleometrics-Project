{
 "cells": [
  {
   "cell_type": "markdown",
   "metadata": {
    "collapsed": false
   },
   "source": [
    "# Rule 3: If it is possible to cut a word out, always cut it out.\n",
    "\n",
    "This list of unnecessary words comes from the Purdue Online Writing Lab articles on [eliminating words](https://owl.english.purdue.edu/owl/resource/572/02/) and [avoiding common pitfalls.](https://owl.english.purdue.edu/owl/resource/572/04/) Here, we are simply calculating the number of occurences of removable words and putting it in a nice data frame."
   ]
  },
  {
   "cell_type": "code",
   "execution_count": 1,
   "metadata": {
    "collapsed": false
   },
   "outputs": [],
   "source": [
    "import re\n",
    "import pandas as pd\n",
    "import pprint as pp"
   ]
  },
  {
   "cell_type": "code",
   "execution_count": 2,
   "metadata": {
    "collapsed": true
   },
   "outputs": [],
   "source": [
    "def load_csv(filename):\n",
    "    try:\n",
    "        f = open(filename)\n",
    "    except:\n",
    "        pp.pprint('Bad filename ' + filename)\n",
    "        return None\n",
    "    words = f.read().split(',')\n",
    "    return words\n",
    "\n",
    "def regex_for_word(word):\n",
    "    return word.replace('*', '[a-zA-Z]+')\n",
    "\n",
    "# Save the regexes to find unnecessary words as a global variable\n",
    "unnecessary_regexes = load_csv('unnecessary_words.csv')"
   ]
  },
  {
   "cell_type": "code",
   "execution_count": 3,
   "metadata": {
    "collapsed": false
   },
   "outputs": [
    {
     "name": "stdout",
     "output_type": "stream",
     "text": [
      "      PHRASE  COUNT\n",
      "0    kind of      5\n",
      "1    type of      1\n",
      "2   actually      1\n",
      "3  generally      1\n",
      "4   specific      1\n"
     ]
    }
   ],
   "source": [
    "def remove_quotes_from_text(text):\n",
    "    # Check for all types of quotes\n",
    "    quote_regex = r'\"(.*?)\"|“(.*?)”'\n",
    "    text = re.sub(quote_regex, '', text)\n",
    "    return text\n",
    "\n",
    "def find_phrases_in_text(text, phrases):\n",
    "    phrase_list = []\n",
    "    for phrase in phrases:\n",
    "        phrase_count = len(re.findall(regex_for_word(phrase), text, flags=re.IGNORECASE))\n",
    "        if phrase_count is not 0:\n",
    "            phrase_list.append((phrase, phrase_count))\n",
    "    return phrase_list\n",
    "\n",
    "def unnecessary_phrase_count_in_text(text):\n",
    "    text = remove_quotes_from_text(text)\n",
    "    text_phrases = find_phrases_in_text(text, unnecessary_regexes)\n",
    "    frame = pd.DataFrame(text_phrases)\n",
    "    frame.columns = ['PHRASE', 'COUNT']\n",
    "    return frame\n",
    "\n",
    "# This article can be found here:\n",
    "# http://www.newyorker.com/magazine/2008/10/20/late-bloomers-malcolm-gladwell\n",
    "def test_on_gladwell():\n",
    "    with open('gladwell_latebloomers.txt', 'r') as f:\n",
    "        rule3_count = unnecessary_phrase_count_in_text(f.read())\n",
    "        print(rule3_count)"
   ]
  },
  {
   "cell_type": "code",
   "execution_count": 4,
   "metadata": {
    "collapsed": false
   },
   "outputs": [
    {
     "data": {
      "text/plain": [
       "[(0, 7), (27, 7), (43, 7)]"
      ]
     },
     "execution_count": 4,
     "metadata": {},
     "output_type": "execute_result"
    }
   ],
   "source": [
    "def rule3_ranges_in_text(text):\n",
    "    phrase_location_list = []\n",
    "    for phrase in unnecessary_regexes:\n",
    "        phrase_matches = re.finditer(regex_for_word(phrase), text, flags=re.IGNORECASE)\n",
    "        for phrase_match in phrase_matches:            \n",
    "            phrase_location_list.append(phrase_match.span())\n",
    "    return [(start, end - start) for (start, end) in phrase_location_list]"
   ]
  }
 ],
 "metadata": {
  "anaconda-cloud": {},
  "kernelspec": {
   "display_name": "Python [Root]",
   "language": "python",
   "name": "Python [Root]"
  },
  "language_info": {
   "codemirror_mode": {
    "name": "ipython",
    "version": 3
   },
   "file_extension": ".py",
   "mimetype": "text/x-python",
   "name": "python",
   "nbconvert_exporter": "python",
   "pygments_lexer": "ipython3",
   "version": "3.5.2"
  }
 },
 "nbformat": 4,
 "nbformat_minor": 1
}
