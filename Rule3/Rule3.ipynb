{
 "cells": [
  {
   "cell_type": "markdown",
   "metadata": {
    "collapsed": false
   },
   "source": [
    "# Rule 3: If it is possible to cut a word out, always cut it out.\n",
    "\n",
    "This list of unnecessary words comes from the Purdue Online Writing Lab articles on [eliminating words](https://owl.english.purdue.edu/owl/resource/572/02/) and [avoiding common pitfalls.](https://owl.english.purdue.edu/owl/resource/572/04/) Here, we are simply calculating the number of occurences of removable words and putting it in a nice data frame."
   ]
  },
  {
   "cell_type": "code",
   "execution_count": 2,
   "metadata": {
    "collapsed": false
   },
   "outputs": [
    {
     "name": "stdout",
     "output_type": "stream",
     "text": [
      "['kind of',\n",
      " 'sort of',\n",
      " 'type of',\n",
      " 'really',\n",
      " 'basically',\n",
      " 'for all intents and purposes',\n",
      " 'definitely',\n",
      " 'actually',\n",
      " 'generally',\n",
      " 'individual',\n",
      " 'specific',\n",
      " 'particular',\n",
      " 'past memories',\n",
      " 'various differences',\n",
      " 'each individual *',\n",
      " 'basic fundamentals',\n",
      " 'true facts',\n",
      " 'important essentials',\n",
      " 'future plans',\n",
      " 'terrible tragedy',\n",
      " 'end result',\n",
      " 'final outcome',\n",
      " 'free gift',\n",
      " 'past history',\n",
      " 'unexpected surprise',\n",
      " 'sudden crisis',\n",
      " 'large in size',\n",
      " 'often times',\n",
      " 'of a bright color',\n",
      " 'heavy in weight',\n",
      " 'period in time',\n",
      " 'round in shape',\n",
      " 'at an early time',\n",
      " 'economics field',\n",
      " 'of cheap quality',\n",
      " 'honest in character',\n",
      " 'of a * condition',\n",
      " 'in a * state',\n",
      " '* in nature',\n",
      " '* in degree',\n",
      " 'of a * type',\n",
      " 'the reason for',\n",
      " 'for the reason that',\n",
      " 'due to the fact that',\n",
      " 'in light of the fact that',\n",
      " 'considering the fact that',\n",
      " 'on the grounds that',\n",
      " 'this is why',\n",
      " 'owing to the fact',\n",
      " 'on the occasion of',\n",
      " 'in a situation in which',\n",
      " 'under circumstances in which',\n",
      " 'as regards',\n",
      " 'in reference to',\n",
      " 'with regard to',\n",
      " 'concerning the matter of',\n",
      " 'where * is concerned',\n",
      " 'it is crucial that',\n",
      " 'it is necessary that',\n",
      " 'there is a need/necessity for',\n",
      " 'it is important that',\n",
      " 'cannot be avoided',\n",
      " 'is able to',\n",
      " 'has the opportunity to',\n",
      " 'has the capacity for',\n",
      " 'has the ability to',\n",
      " 'it is possible that',\n",
      " 'there is a chance that',\n",
      " 'it could happen that',\n",
      " 'the possibility exists for']\n"
     ]
    }
   ],
   "source": [
    "import re\n",
    "import pandas as pd\n",
    "import pprint as pp\n",
    "\n",
    "\n",
    "unnecessary_words_csv = 'unnecessary_words.csv'\n",
    "\n",
    "def load_csv(filename):\n",
    "    try:\n",
    "        f = open(filename)\n",
    "    except:\n",
    "        pp.pprint('Bad filename ' + filename)\n",
    "        return None\n",
    "    words = f.read().split(',')\n",
    "    return words\n",
    "\n",
    "def regex_for_word(word):\n",
    "    return word.replace('*', '[a-zA-Z]+')\n",
    "\n",
    "pp.pprint(load_csv(unnecessary_words_csv))"
   ]
  },
  {
   "cell_type": "code",
   "execution_count": 11,
   "metadata": {
    "collapsed": false
   },
   "outputs": [
    {
     "name": "stdout",
     "output_type": "stream",
     "text": [
      "      PHRASE  COUNT\n",
      "0    kind of      5\n",
      "1    type of      1\n",
      "2   actually      1\n",
      "3  generally      1\n",
      "4   specific      1\n"
     ]
    }
   ],
   "source": [
    "def remove_quotes_from_text(text):\n",
    "    # Check for all types of quotes\n",
    "    quote_regex = r'\"(.*?)\"|“(.*?)”'\n",
    "    text = re.sub(quote_regex, '', text)\n",
    "    return text\n",
    "\n",
    "def find_phrases_in_text(text, phrases):\n",
    "    phrase_list = []\n",
    "    for phrase in phrases:\n",
    "        phrase_count = len(re.findall(regex_for_word(phrase), text, flags=re.IGNORECASE))\n",
    "        if phrase_count is not 0:\n",
    "            phrase_list.append((phrase, phrase_count))\n",
    "    return phrase_list\n",
    "\n",
    "def unnnecessary_phrase_count_in_text(text):\n",
    "    unnecessay_regexes = load_csv(unnecessary_words_csv)\n",
    "    text = remove_quotes_from_text(text)\n",
    "    text_phrases = find_phrases_in_text(text, unnecessay_regexes)\n",
    "    frame = pd.DataFrame(text_phrases)\n",
    "    frame.columns = ['PHRASE', 'COUNT']\n",
    "    return frame\n",
    "\n",
    "# This article can be found here:\n",
    "# http://www.newyorker.com/magazine/2008/10/20/late-bloomers-malcolm-gladwell\n",
    "with open('gladwell_latebloomers.txt', 'r') as f:\n",
    "    rule3_count = unnnecessary_phrase_count_in_text(f.read())\n",
    "    print(rule3_count)"
   ]
  }
 ],
 "metadata": {
  "anaconda-cloud": {},
  "kernelspec": {
   "display_name": "Python [Root]",
   "language": "python",
   "name": "Python [Root]"
  },
  "language_info": {
   "codemirror_mode": {
    "name": "ipython",
    "version": 3
   },
   "file_extension": ".py",
   "mimetype": "text/x-python",
   "name": "python",
   "nbconvert_exporter": "python",
   "pygments_lexer": "ipython3",
   "version": "3.5.2"
  }
 },
 "nbformat": 4,
 "nbformat_minor": 1
}
