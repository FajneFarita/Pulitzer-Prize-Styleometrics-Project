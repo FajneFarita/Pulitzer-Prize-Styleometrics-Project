{
 "cells": [
  {
   "cell_type": "markdown",
   "metadata": {},
   "source": [
    "## Read and parse XML"
   ]
  },
  {
   "cell_type": "code",
   "execution_count": 2,
   "metadata": {
    "collapsed": false
   },
   "outputs": [],
   "source": [
    "# import xml.etree.ElementTree as etree\n",
    "from lxml import etree, objectify\n",
    "\n",
    "root = etree.parse('VUAMC.xml')\n",
    "\n",
    "## Cleanup xml schema/namespaces from tags ##    \n",
    "for elem in root.getiterator():\n",
    "    if not hasattr(elem.tag, 'find'): continue  # (1)\n",
    "    i = elem.tag.find('}')\n",
    "    if i >= 0:\n",
    "        elem.tag = elem.tag[i+1:]\n",
    "objectify.deannotate(root, cleanup_namespaces=True)"
   ]
  },
  {
   "cell_type": "markdown",
   "metadata": {},
   "source": [
    "## Traverse XML tree and extract sentences containing similes"
   ]
  },
  {
   "cell_type": "code",
   "execution_count": 16,
   "metadata": {
    "collapsed": false
   },
   "outputs": [],
   "source": [
    "import pandas as pd\n",
    "\n",
    "def extract_similes(root):\n",
    "    rows = []\n",
    "    for sent in root.findall('.//s'): # scan all sentences\n",
    "        text = ''\n",
    "        mflag = ''\n",
    "        mrw = ''\n",
    "        for word in sent.findall('.//w'): # for each word in sentence\n",
    "            aseg = word.find('.//seg')\n",
    "            if aseg is not None:\n",
    "                if not aseg.text or not aseg.text.strip():\n",
    "                    continue\n",
    "                ft = aseg.text.strip()#.encode('UTF-8')\n",
    "                if aseg.get('function') == 'mFlag': # flag for similes\n",
    "                    mflag += ' ' + ft\n",
    "                    text += ' ' + ft\n",
    "                elif aseg.get('function') == 'mrw' and not (not mflag): # start collecting keywords only after mflag\n",
    "                    mrw += ' ' + ft\n",
    "                    text += ' ' + ft\n",
    "            elif not (not word.text):\n",
    "                text += ' ' + word.text.strip()#.encode('UTF-8')\n",
    "\n",
    "        text = text.strip()\n",
    "        mrw = mrw.strip()\n",
    "        mflag = mflag.strip()\n",
    "        if not (not mflag): # we are only interested in similes; for metaphors: if not mflag \n",
    "            rows.append([mflag, mrw, text])\n",
    "    df = pd.DataFrame(rows)\n",
    "    df.columns = ['mflag', 'mrw', 'sentence']\n",
    "    return df\n",
    "   "
   ]
  },
  {
   "cell_type": "markdown",
   "metadata": {},
   "source": [
    "## Go to town "
   ]
  },
  {
   "cell_type": "code",
   "execution_count": 18,
   "metadata": {
    "collapsed": false
   },
   "outputs": [],
   "source": [
    "df = extract_similes(root)\n",
    "df.to_csv('similes.csv')"
   ]
  },
  {
   "cell_type": "code",
   "execution_count": null,
   "metadata": {
    "collapsed": true
   },
   "outputs": [],
   "source": []
  }
 ],
 "metadata": {
  "kernelspec": {
   "display_name": "Python [Root]",
   "language": "python",
   "name": "Python [Root]"
  },
  "language_info": {
   "codemirror_mode": {
    "name": "ipython",
    "version": 3
   },
   "file_extension": ".py",
   "mimetype": "text/x-python",
   "name": "python",
   "nbconvert_exporter": "python",
   "pygments_lexer": "ipython3",
   "version": "3.5.2"
  }
 },
 "nbformat": 4,
 "nbformat_minor": 0
}
