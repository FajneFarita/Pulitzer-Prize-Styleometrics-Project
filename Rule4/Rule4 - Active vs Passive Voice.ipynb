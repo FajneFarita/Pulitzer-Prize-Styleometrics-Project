{
 "cells": [
  {
   "cell_type": "markdown",
   "metadata": {},
   "source": [
    "# Rule 4: Never use the passive where you can use the active.\n",
    "\n",
    "We are using the dependency parser from Spacy to check for clauses, nouns and verbs which are tagged with a \"passive tag\". We are simply calculating the number of occurences of sentences that are in the passive voice and returning a decimal number denoting the percentage of articles in the article that are in the passive voice."
   ]
  },
  {
   "cell_type": "code",
   "execution_count": 1,
   "metadata": {
    "collapsed": true
   },
   "outputs": [],
   "source": [
    "from spacy.en import English\n",
    "\n",
    "parser = English()"
   ]
  },
  {
   "cell_type": "code",
   "execution_count": 2,
   "metadata": {
    "collapsed": false
   },
   "outputs": [],
   "source": [
    "def rule4_ranges_in_text(article, parser):\n",
    "    '''This function accepts a string of sentences and prints them out classifying them into active or passive.    It returns a list of tuples in the format (starting_char_of_passive_sentence, length_of_passive_sentence)    of sentences that are passive.''' \n",
    "\n",
    "    edited_article = remove_quotes_from_text(article)\n",
    "    \n",
    "    parse = parser(edited_article)\n",
    "    \n",
    "    passive_list = []\n",
    "    \n",
    "\n",
    "    for sentence in parse.sents:\n",
    "        sent = str(sentence)\n",
    "        hasPassive = False\n",
    "        passive_indicators = []\n",
    "        for word in sentence:\n",
    "            if word.dep_ in ['nsubjpass', 'csubjpass', 'auxpass']:\n",
    "                passive_indicators.append((word.dep_, word.text))\n",
    "                hasPassive = True\n",
    "        if hasPassive:\n",
    "            passive_list.append((article.find(sent), len(sent)))\n",
    "            print(\"Passive Voice Sentence: {0}.\\nPassive Voice indicators: {1}\".format(sentence, passive_indicators))\n",
    "        else:\n",
    "            continue\n",
    "            \n",
    "    return passive_list\n",
    "\n",
    "def remove_quotes_from_text(text):\n",
    "    # Check for all types of quotes\n",
    "    import re\n",
    "    quote_regex = r'\"(.*?)\"|“(.*?)”'\n",
    "    text = re.sub(quote_regex, '', text)\n",
    "    return text"
   ]
  },
  {
   "cell_type": "code",
   "execution_count": 4,
   "metadata": {
    "collapsed": false
   },
   "outputs": [
    {
     "name": "stdout",
     "output_type": "stream",
     "text": [
      "Passive Voice Sentence: It was named a No. 1 Book Sense Pick..\n",
      "Passive Voice indicators: [('nsubjpass', 'It'), ('auxpass', 'was')]\n",
      "Passive Voice Sentence: It made major regional best-seller lists, was named one of the best books of the year by the San Francisco Chronicle, the Chicago Tribune, and Kirkus Reviews, and drew comparisons to Graham Greene, Evelyn Waugh, Robert Stone, and John le Carré.\n",
      "\n",
      "Ben Fountain’s rise sounds like a familiar story: the young man from the provinces suddenly takes the literary world by storm..\n",
      "Passive Voice indicators: [('auxpass', 'was')]\n",
      "Passive Voice Sentence: Genius, in the popular conception, is inextricably tied up with precocity—doing something truly creative, we’re inclined to think, requires the freshness and exuberance and energy of youth..\n",
      "Passive Voice indicators: [('nsubjpass', 'Genius'), ('auxpass', 'is')]\n",
      "Passive Voice Sentence: Some people, of course, would quarrel with the notion that literary merit can be quantified..\n",
      "Passive Voice indicators: [('nsubjpass', 'merit'), ('auxpass', 'be')]\n",
      "Passive Voice Sentence: Those eleven were composed at the ages of twenty-three, forty-one, forty-eight, forty, twenty-nine, thirty, thirty, twenty-eight, thirty-eight, forty-two, and fifty-nine, respectively..\n",
      "Passive Voice indicators: [('nsubjpass', 'eleven'), ('auxpass', 'were')]\n",
      "Passive Voice Sentence: Forty-two per cent of Frost’s anthologized poems were written after the age of fifty..\n",
      "Passive Voice indicators: [('nsubjpass', 'cent'), ('nsubjpass', 'poems'), ('auxpass', 'were')]\n",
      "Passive Voice Sentence: If you go to the Cézanne room at the Musée d’Orsay, in Paris—the finest collection of Cézannes in the world—the array of masterpieces you’ll find along the back wall were all painted at the end of his career..\n",
      "Passive Voice indicators: [('auxpass', 'were')]\n",
      "Passive Voice Sentence: The paintings he created in his mid-sixties were valued fifteen times as highly as the paintings he created as a young man..\n",
      "Passive Voice indicators: [('nsubjpass', 'paintings'), ('auxpass', 'were')]\n",
      "Passive Voice Sentence: He knew how the story about the stockbroker was supposed to start..\n",
      "Passive Voice indicators: [('nsubjpass', 'story'), ('auxpass', 'was')]\n",
      "Passive Voice Sentence: He didn’t have a fully formed vision, waiting to be emptied onto the page.  .\n",
      "Passive Voice indicators: [('auxpass', 'be')]\n",
      "Passive Voice Sentence: Fountain was riveted by Haiti.  .\n",
      "Passive Voice indicators: [('nsubjpass', 'Fountain'), ('auxpass', 'was')]\n",
      "Passive Voice Sentence: They feel like Haiti; they feel as if they’ve been written from the inside looking out, not the outside looking in.  .\n",
      "Passive Voice indicators: [('nsubjpass', 'they’ve'), ('auxpass', 'been')]\n",
      "Passive Voice Sentence: Galenson writes in  and he goes on:\n",
      "\n",
      "The imprecision of their goals means that these artists rarely feel they have succeeded, and their careers are consequently often dominated by the pursuit of a single objective..\n",
      "Passive Voice indicators: [('nsubjpass', 'careers'), ('auxpass', 'are')]\n",
      "Passive Voice Sentence: Each work leads to the next, and none is generally privileged over others, so experimental painters rarely make specific preparatory sketches or plans for a painting..\n",
      "Passive Voice indicators: [('nsubjpass', 'none'), ('auxpass', 'is')]\n",
      "Passive Voice Sentence: These artists are perfectionists and are typically plagued by frustration at their inability to achieve their goal.\n",
      "\n",
      " \n",
      ".\n",
      "Passive Voice indicators: [('auxpass', 'are')]\n",
      "Passive Voice Sentence: One of the best stories in  is called  .\n",
      "Passive Voice indicators: [('nsubjpass', 'One'), ('auxpass', 'is')]\n",
      "Passive Voice Sentence: It was supposed to come out this year..\n",
      "Passive Voice indicators: [('nsubjpass', 'It'), ('auxpass', 'was')]\n",
      "Passive Voice Sentence: Galenson’s idea that creativity can be divided into these types—conceptual and experimental—has a number of important implications..\n",
      "Passive Voice indicators: [('nsubjpass', 'creativity'), ('auxpass', 'be')]\n",
      "Passive Voice Sentence: We also sometimes think of them as artists who are discovered late; the world is just slow to appreciate their gifts..\n",
      "Passive Voice indicators: [('nsubjpass', 'who'), ('auxpass', 'are')]\n",
      "Passive Voice Sentence: This is the vexing lesson of Fountain’s long attempt to get noticed by the literary world..\n",
      "Passive Voice indicators: [('auxpass', 'get')]\n",
      "Passive Voice Sentence: They got married in 1985, and had a son in April of 1987..\n",
      "Passive Voice indicators: [('nsubjpass', 'They'), ('auxpass', 'got')]\n",
      "Passive Voice Sentence: That word has a condescending edge to it today, because we think it far more appropriate for artists (and everyone else for that matter) to be supported by the marketplace..\n",
      "Passive Voice indicators: [('nsubjpass', 'everyone'), ('auxpass', 'be')]\n",
      "Passive Voice Sentence: He spotted a still-life in a tree, where it had been flung by Cézanne in disgust..\n",
      "Passive Voice indicators: [('nsubjpass', 'it'), ('auxpass', 'been')]\n",
      "Passive Voice Sentence: Vollard paid a thousand francs for the job lot, then on the way out was nearly hit on the head by a canvas that had been overlooked, dropped out the window by the man’s wife..\n",
      "Passive Voice indicators: [('auxpass', 'was'), ('nsubjpass', 'that'), ('auxpass', 'been')]\n",
      "Passive Voice Sentence: This is called friendship.\n",
      "\n",
      ".\n",
      "Passive Voice indicators: [('nsubjpass', 'This'), ('auxpass', 'is')]\n",
      "[(2166, 37), (2204, 372), (3110, 189), (4483, 92), (5135, 184), (5527, 85), (6802, 208), (7348, 123), (7773, 66), (-1, 76), (-1, 32), (-1, 117), (-1, 214), (12226, 166), (12756, 119), (-1, 39), (15025, 38), (15076, 131), (15462, 117), (16945, 90), (22521, 57), (25140, 172), (27888, 81), (28386, 174), (28979, 28)]\n"
     ]
    }
   ],
   "source": [
    "##Using same article as Gabe's Rule 3 to check my code\n",
    "\n",
    "# with open('gladwell_latebloomers.txt', 'r') as f:\n",
    "#     rule4_percentage = rule4_ranges_in_text(f.read(), parser)\n",
    "#     print(rule4_percentage)"
   ]
  },
  {
   "cell_type": "code",
   "execution_count": null,
   "metadata": {
    "collapsed": true
   },
   "outputs": [],
   "source": []
  }
 ],
 "metadata": {
  "anaconda-cloud": {},
  "kernelspec": {
   "display_name": "Python [Root]",
   "language": "python",
   "name": "Python [Root]"
  },
  "language_info": {
   "codemirror_mode": {
    "name": "ipython",
    "version": 3
   },
   "file_extension": ".py",
   "mimetype": "text/x-python",
   "name": "python",
   "nbconvert_exporter": "python",
   "pygments_lexer": "ipython3",
   "version": "3.5.2"
  }
 },
 "nbformat": 4,
 "nbformat_minor": 1
}
