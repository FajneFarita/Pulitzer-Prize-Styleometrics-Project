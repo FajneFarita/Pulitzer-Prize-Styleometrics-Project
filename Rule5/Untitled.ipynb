{
 "cells": [
  {
   "cell_type": "markdown",
   "metadata": {},
   "source": [
    "# Feature Engineering and Classification for Jargon Words"
   ]
  },
  {
   "cell_type": "code",
   "execution_count": 15,
   "metadata": {
    "collapsed": false
   },
   "outputs": [],
   "source": [
    "from collections import Counter\n",
    "from nltk.corpus import wordnet as wn\n",
    "from nltk import word_tokenize"
   ]
  },
  {
   "cell_type": "code",
   "execution_count": 16,
   "metadata": {
    "collapsed": false
   },
   "outputs": [
    {
     "data": {
      "text/plain": [
       "['veni', 'vidi', 'vici']"
      ]
     },
     "execution_count": 16,
     "metadata": {},
     "output_type": "execute_result"
    }
   ],
   "source": [
    "def generate_features(candidate):\n",
    "    features = Counter()\n",
    "    candidate = candidate.lower()\n",
    "    features  = get_letter_combinations(candidate, features, 2)\n",
    "    features  = get_letter_combinations(candidate, features, 3)\n",
    "    features  = get_letter_combinations(candidate, features, 4)\n",
    "    features['first'] = candidate[:1]\n",
    "#     features['second'] = word[1:2] # get the 'h' in Charlie?\n",
    "    features['last_three'] = candidate[-3:]\n",
    "    features['last_two'] = candidate[-2:]\n",
    "    features['first_three'] = candidate[:3]\n",
    "    features['name_len_id'] = len(candidate)\n",
    "#     features['repeating_letters'] = get_first_repeating_letters(word)\n",
    "#     features['continuous_vowels'] = get_first_repeating_vowels(word)\n",
    "#     features['has_letters'] = has_letters(word, 'yzwx')\n",
    "    return dict(features)\n",
    "generate_features('veni vidi vici') "
   ]
  },
  {
   "cell_type": "code",
   "execution_count": 8,
   "metadata": {
    "collapsed": true
   },
   "outputs": [],
   "source": [
    "def get_letter_combinations(candidate, features, number):\n",
    "    if len(candidate) < number:\n",
    "        return features\n",
    "    else:\n",
    "        for index in range(0, len(candidate), number):\n",
    "            features[candidate[index:index + number]] += 1\n",
    "        return features"
   ]
  },
  {
   "cell_type": "code",
   "execution_count": null,
   "metadata": {
    "collapsed": true
   },
   "outputs": [],
   "source": [
    "\n",
    "def get_wordnet_definition(candidate):\n",
    "    words = word_tokenize(candidate)\n",
    "    for word in words:\n",
    "        synsets = wn.synsets(word)\n",
    "        \n",
    "    \n",
    "    "
   ]
  }
 ],
 "metadata": {
  "anaconda-cloud": {},
  "kernelspec": {
   "display_name": "Python [conda root]",
   "language": "python",
   "name": "conda-root-py"
  },
  "language_info": {
   "codemirror_mode": {
    "name": "ipython",
    "version": 3
   },
   "file_extension": ".py",
   "mimetype": "text/x-python",
   "name": "python",
   "nbconvert_exporter": "python",
   "pygments_lexer": "ipython3",
   "version": "3.5.2"
  }
 },
 "nbformat": 4,
 "nbformat_minor": 1
}
