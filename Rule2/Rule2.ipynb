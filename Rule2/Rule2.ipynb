{
 "cells": [
  {
   "cell_type": "markdown",
   "metadata": {},
   "source": [
    "# Rule 2: Never use a long word where a short word will do\n",
    "\n",
    "We are going to take a loose interpretation of this. Instead of word length, we will use both the number of syllables and the order of where it appears in order in a frequency distribution of words. If we just did number of syllables, we would, for example, always replace the word `therefore` with `thus`, which is not in the spirit of the problem. \n",
    "\n",
    "So let's get cracking on this score!"
   ]
  },
  {
   "cell_type": "code",
   "execution_count": 1,
   "metadata": {
    "collapsed": false
   },
   "outputs": [],
   "source": [
    "import nltk\n",
    "import pprint as pp\n",
    "import spacy\n",
    "\n",
    "from nltk.corpus import brown\n",
    "from nltk.corpus import cmudict\n",
    "from nltk.probability import FreqDist"
   ]
  },
  {
   "cell_type": "code",
   "execution_count": 2,
   "metadata": {
    "collapsed": false
   },
   "outputs": [],
   "source": [
    "nlp = spacy.load('en')\n",
    "syllable_dict = cmudict.dict()"
   ]
  },
  {
   "cell_type": "code",
   "execution_count": 21,
   "metadata": {
    "collapsed": false
   },
   "outputs": [
    {
     "name": "stdout",
     "output_type": "stream",
     "text": [
      "[('what', 2, 62),\n",
      " ('could', 1, 75),\n",
      " ('the', 3, 0),\n",
      " ('readability', 1, 49815),\n",
      " ('of', 2, 3),\n",
      " ('this', 2, 25),\n",
      " ('gargantutan', 1, 49815),\n",
      " ('document', 2, 6943),\n",
      " ('be', 2, 20),\n",
      " ('?', 1, 27)]\n"
     ]
    }
   ],
   "source": [
    "def brown_freqdist():\n",
    "    #TODO: make this not just news\n",
    "    brown_text = brown.words()\n",
    "    dist = nltk.FreqDist([w.lower() for w in brown_text])\n",
    "    return dist\n",
    "\n",
    "def syllable_count(word, syllable_dict):\n",
    "    if word in syllable_dict:\n",
    "        return len(syllable_dict[word])\n",
    "    # TODO\n",
    "    # If it's not in the dictionary count the number of vowels and ignore an e at the end not\n",
    "    # preceded by another vowel. It's rough, but there will be few cases if any cases in which\n",
    "    # a word is not in the CMU dictionary but in Brown and WordNet\n",
    "    return 1\n",
    "\n",
    "def readability_for_word(word, brown_dist, syllable_dict):\n",
    "    syllables = syllable_count(word, syllable_dict)\n",
    "    brown_most_common = [w for (w, count) in brown_dist.most_common(100000)]\n",
    "    brown_freq = len(brown_most_common)\n",
    "    if word in brown_most_common:\n",
    "        brown_freq = brown_most_common.index(word)\n",
    "    return (word, syllables, brown_freq)\n",
    "    \n",
    "example_text = \"What could the readability of this gargantutan document be?\"\n",
    "tokenized_text = nlp(example_text)\n",
    "fd_brown = brown_freqdist()\n",
    "scored_text = [readability_for_word(token.text.lower(), fd_brown, syllable_dict) for token in tokenized_text]\n",
    "pp.pprint(scored_text)\n",
    "\n",
    "\n"
   ]
  }
 ],
 "metadata": {
  "anaconda-cloud": {},
  "kernelspec": {
   "display_name": "Python [Root]",
   "language": "python",
   "name": "Python [Root]"
  },
  "language_info": {
   "codemirror_mode": {
    "name": "ipython",
    "version": 3
   },
   "file_extension": ".py",
   "mimetype": "text/x-python",
   "name": "python",
   "nbconvert_exporter": "python",
   "pygments_lexer": "ipython3",
   "version": "3.5.2"
  }
 },
 "nbformat": 4,
 "nbformat_minor": 0
}
