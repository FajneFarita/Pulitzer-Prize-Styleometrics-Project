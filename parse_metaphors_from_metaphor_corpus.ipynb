{
 "cells": [
  {
   "cell_type": "markdown",
   "metadata": {},
   "source": [
    "## Read and parse XML\n",
    "(find VUAMC.xml in the git folder and download it in one directory with this parser)"
   ]
  },
  {
   "cell_type": "code",
   "execution_count": 5,
   "metadata": {
    "collapsed": false
   },
   "outputs": [],
   "source": [
    "# import xml.etree.ElementTree as etree\n",
    "from lxml import etree, objectify\n",
    "\n",
    "root = etree.parse('VUAMC.xml')\n",
    "\n",
    "## Cleanup xml schema/namespaces from tags ##    \n",
    "for elem in root.getiterator():\n",
    "    if not hasattr(elem.tag, 'find'): continue  # (1)\n",
    "    i = elem.tag.find('}')\n",
    "    if i >= 0:\n",
    "        elem.tag = elem.tag[i+1:]\n",
    "objectify.deannotate(root, cleanup_namespaces=True)"
   ]
  },
  {
   "cell_type": "markdown",
   "metadata": {},
   "source": [
    "## Traverse XML tree and extract sentences containing metaphors"
   ]
  },
  {
   "cell_type": "code",
   "execution_count": 14,
   "metadata": {
    "collapsed": false
   },
   "outputs": [],
   "source": [
    "import pandas as pd\n",
    "\n",
    "def extract_similes(root):\n",
    "    rows = []\n",
    "    for sent in root.findall('.//s'): # scan all sentences\n",
    "        text = ''\n",
    "        mflag = ''\n",
    "        mrw = ''\n",
    "        type_ = ''\n",
    "        for word in sent.findall('.//w'): # for each word in sentence\n",
    "            aseg = word.find('.//seg')\n",
    "            if aseg is not None:\n",
    "                if not aseg.text or not aseg.text.strip():\n",
    "                    continue\n",
    "                ft = aseg.text.strip()#.encode('UTF-8')\n",
    "                if aseg.get('function') == 'mFlag': # flag for similes\n",
    "                    mflag += ' ' + ft\n",
    "                    text += ' ' + ft\n",
    "                if aseg.get('function') == 'mrw':\n",
    "                     # and not (not mflag): # start collecting keywords only after mflag\n",
    "                    mrw += ' ' + ft\n",
    "                    text += ' ' + ft\n",
    "                    type_ = aseg.get('type')\n",
    "            elif not (not word.text):\n",
    "                text += ' ' + word.text.strip()#.encode('UTF-8')\n",
    "\n",
    "        text = text.strip()\n",
    "        mrw = mrw.strip()\n",
    "        mflag = mflag.strip()\n",
    "        if not (not mrw) and type_ == 'met': \n",
    "            rows.append([mflag, mrw, text])\n",
    "    df = pd.DataFrame(rows)\n",
    "    df.columns = ['_', 'mrw', 'sentence']\n",
    "    return df\n",
    "   "
   ]
  },
  {
   "cell_type": "markdown",
   "metadata": {},
   "source": [
    "## This creates an xml file with metaphors and sentences w/met extracted from the corpus\n",
    "(replace with your code, when you have a classifier)"
   ]
  },
  {
   "cell_type": "code",
   "execution_count": 15,
   "metadata": {
    "collapsed": false
   },
   "outputs": [],
   "source": [
    "df = extract_similes(root)\n",
    "df.to_csv('metaphors.csv')"
   ]
  },
  {
   "cell_type": "code",
   "execution_count": null,
   "metadata": {
    "collapsed": true
   },
   "outputs": [],
   "source": []
  }
 ],
 "metadata": {
  "kernelspec": {
   "display_name": "Python [Root]",
   "language": "python",
   "name": "Python [Root]"
  },
  "language_info": {
   "codemirror_mode": {
    "name": "ipython",
    "version": 3
   },
   "file_extension": ".py",
   "mimetype": "text/x-python",
   "name": "python",
   "nbconvert_exporter": "python",
   "pygments_lexer": "ipython3",
   "version": "3.5.2"
  }
 },
 "nbformat": 4,
 "nbformat_minor": 0
}
